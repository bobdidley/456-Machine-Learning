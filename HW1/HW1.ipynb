{
  "cells": [
    {
      "cell_type": "markdown",
      "metadata": {
        "id": "TAaYDM4Ns87N"
      },
      "source": [
        "***This HW will implement several different ways of training linear regression model ***\n",
        "\n",
        "**Due Feb 23, 2021 3:30PM**\n",
        "(total: 10 points)"
      ]
    },
    {
      "cell_type": "markdown",
      "metadata": {
        "id": "oZSvjfj9-BGU"
      },
      "source": [
        "\n",
        "\n",
        "1.   submit ipynb in the Dropbox folder via BeachBoard (Not email)\n",
        "2.   follow the instructions and fill the blanks in this Jupyter notebook\n",
        "\n",
        "\n"
      ]
    },
    {
      "cell_type": "markdown",
      "metadata": {
        "id": "TeMhky9xwsD1"
      },
      "source": [
        "**important:** In order to open this Python files with Google Colaboratory, you need to have a Gmail account and sign in to that account. This will automatically allow you to open the Python files with Google Colaboratory. Then once you open the file, it will be in read-only mode, so in order to code inside you just have to go to File, and then click \"Save a copy in Drive\". This will create a copy of this file on your drive, inside which you will be able to code in Python."
      ]
    },
    {
      "cell_type": "markdown",
      "metadata": {
        "id": "xU2mtNl6kl-G"
      },
      "source": [
        "# Setup (*Do Not change*)"
      ]
    },
    {
      "cell_type": "code",
      "execution_count": 37,
      "metadata": {
        "id": "boBLiqa6csz-"
      },
      "outputs": [],
      "source": [
        "import numpy as np\n",
        "import matplotlib.pyplot as plt\n",
        "np.random.seed(42) #to make this notebook's output stable across runs"
      ]
    },
    {
      "cell_type": "markdown",
      "metadata": {
        "id": "dvHHuyoIlVTG"
      },
      "source": [
        "#prepare the dataset (*Do Not change*)"
      ]
    },
    {
      "cell_type": "code",
      "execution_count": 38,
      "metadata": {
        "id": "Hjc3Kn2_cxXW"
      },
      "outputs": [],
      "source": [
        "X = 2 * np.random.rand(100,1)\n",
        "#print(x)\n",
        "y = 4 + 3 * X + np.random.randn(100, 1)"
      ]
    },
    {
      "cell_type": "code",
      "execution_count": 39,
      "metadata": {
        "colab": {
          "base_uri": "https://localhost:8080/",
          "height": 287
        },
        "id": "BzQR1oW1liJo",
        "outputId": "aaea20e0-018f-401d-ccd2-a32b5f0e0735"
      },
      "outputs": [
        {
          "data": {
            "image/png": "[encoded data removed]",
            "text/plain": [
              "<Figure size 432x288 with 1 Axes>"
            ]
          },
          "metadata": {
            "needs_background": "light"
          },
          "output_type": "display_data"
        }
      ],
      "source": [
        "#visualize the dataset\n",
        "plt.plot(X, y, \"b.\")\n",
        "plt.xlabel(\"$x_1$\", fontsize=18)\n",
        "plt.ylabel(\"$y$\", rotation=0, fontsize=18)\n",
        "plt.axis([0, 2, 0, 15])\n",
        "plt.show()"
      ]
    },
    {
      "cell_type": "markdown",
      "metadata": {
        "id": "V10VsJazlWsr"
      },
      "source": [
        "#**1st way**: Linear regression using sklearn library (*Do Not change*)"
      ]
    },
    {
      "cell_type": "code",
      "execution_count": 40,
      "metadata": {
        "colab": {
          "base_uri": "https://localhost:8080/"
        },
        "id": "YB0HqNYPk-Uo",
        "outputId": "68c463ad-ca9b-4593-9a3c-a992b5da3960"
      },
      "outputs": [
        {
          "data": {
            "text/plain": [
              "(array([4.21509616]), array([[2.77011339]]))"
            ]
          },
          "execution_count": 40,
          "metadata": {},
          "output_type": "execute_result"
        }
      ],
      "source": [
        "from sklearn.linear_model import LinearRegression\n",
        "lin_reg = LinearRegression()\n",
        "lin_reg.fit(X, y)\n",
        "lin_reg.intercept_, lin_reg.coef_"
      ]
    },
    {
      "cell_type": "code",
      "execution_count": 41,
      "metadata": {
        "colab": {
          "base_uri": "https://localhost:8080/"
        },
        "id": "H1vzi-6AmM5M",
        "outputId": "e0d6ee05-938f-4205-ae31-0f73728d9281"
      },
      "outputs": [
        {
          "data": {
            "text/plain": [
              "array([[4.21509616],\n",
              "       [9.75532293]])"
            ]
          },
          "execution_count": 41,
          "metadata": {},
          "output_type": "execute_result"
        }
      ],
      "source": [
        "#make prediction on X_new\n",
        "X_new = np.array([[0], [2]])\n",
        "lin_reg.predict(X_new)"
      ]
    },
    {
      "cell_type": "markdown",
      "metadata": {
        "id": "ijFMckOmmolR"
      },
      "source": [
        "#**2nd way**: Linear regression using normal equation (*Your turn!!!*)"
      ]
    },
    {
      "cell_type": "markdown",
      "metadata": {
        "id": "EBxBto2XogNL"
      },
      "source": [
        "# 1. add x0 = 1 to each instance (1 point)"
      ]
    },
    {
      "cell_type": "code",
      "execution_count": 42,
      "metadata": {
        "id": "oI2UZYgfool7"
      },
      "outputs": [],
      "source": [
        "#your code\n",
        "x0 = np.ones((np.size(X[:,0]), 1))\n",
        "x0_X = np.column_stack((x0, X))\n",
        "# debug\n",
        "# print(type(x0_X))"
      ]
    },
    {
      "cell_type": "markdown",
      "metadata": {
        "id": "zhSfPIisoqGG"
      },
      "source": [
        "# 2. write the normal equation using np.linalg (2 points)"
      ]
    },
    {
      "cell_type": "code",
      "execution_count": 43,
      "metadata": {
        "id": "UHUOZVeoc-TJ"
      },
      "outputs": [],
      "source": [
        "#your code\n",
        "# NOTE: np.invert gives type error, use np.linalg.inv instead\n",
        "# follow the equation from the notes\n",
        "w = np.linalg.inv(np.transpose(x0_X).dot(x0_X)).dot(np.transpose(x0_X)).dot(y)"
      ]
    },
    {
      "cell_type": "markdown",
      "metadata": {
        "id": "IW5BZRtno4km"
      },
      "source": [
        "# 3. print weights"
      ]
    },
    {
      "cell_type": "code",
      "execution_count": 44,
      "metadata": {
        "id": "k7mWjN-neyws"
      },
      "outputs": [
        {
          "name": "stdout",
          "output_type": "stream",
          "text": [
            "[[4.21509616]\n",
            " [2.77011339]]\n"
          ]
        }
      ],
      "source": [
        "#your code\n",
        "print(w)"
      ]
    },
    {
      "cell_type": "markdown",
      "metadata": {
        "id": "i4jpLTanpEUD"
      },
      "source": [
        "# 4. make prediction on X_new (from the 1st part), but before predicting, you need to add x0=1 to each instance (1 point)"
      ]
    },
    {
      "cell_type": "code",
      "execution_count": 45,
      "metadata": {
        "id": "xG6WksCRfSYd"
      },
      "outputs": [],
      "source": [
        "#your code\n",
        "# create a ones array then append it\n",
        "x0 = np.ones((np.size(X_new[:,0]), 1))\n",
        "x0_Xnew = np.column_stack((x0, X_new))\n",
        "pred = np.dot(x0_Xnew, w)\n",
        "# debug\n",
        "# print(pred)\n"
      ]
    },
    {
      "cell_type": "markdown",
      "metadata": {
        "id": "ew6_JW7bpgiv"
      },
      "source": [
        "# 5. plot this model's prediction line (2 points)"
      ]
    },
    {
      "cell_type": "code",
      "execution_count": 46,
      "metadata": {
        "id": "8pFuHrPQnq11"
      },
      "outputs": [
        {
          "data": {
            "image/png": "[encoded data removed]",
            "text/plain": [
              "<Figure size 432x288 with 1 Axes>"
            ]
          },
          "metadata": {
            "needs_background": "light"
          },
          "output_type": "display_data"
        }
      ],
      "source": [
        "#your code\n",
        "# plot the prediction using the results from the normal equation calculation\n",
        "plt.plot(X_new, pred, \"r-\")\n",
        "plt.plot(X, y, \"b.\")\n",
        "plt.xlabel(\"$x_1$\", fontsize=18)\n",
        "plt.ylabel(\"$y$\", rotation=0, fontsize=18)\n",
        "plt.axis([0, 2, 0, 15])\n",
        "plt.show()"
      ]
    },
    {
      "cell_type": "markdown",
      "metadata": {
        "id": "1KgIP4Umh1oQ"
      },
      "source": [
        "#**3rd way**: Linear Regression using batch gradient descent (*Your turn!!!*)"
      ]
    },
    {
      "cell_type": "code",
      "execution_count": 64,
      "metadata": {
        "id": "NSGLEbech7Z7"
      },
      "outputs": [],
      "source": [
        "#Do not change this code cell\n",
        "eta = 0.2  # learning rate\n",
        "n_iterations = 1000\n",
        "weights_gd = np.random.randn(2,1)  # random initialization"
      ]
    },
    {
      "cell_type": "markdown",
      "metadata": {
        "id": "Y7GUSC_Ap6LA"
      },
      "source": [
        "# 1. write gradient descent without using sklearn (3 points)"
      ]
    },
    {
      "cell_type": "code",
      "execution_count": 65,
      "metadata": {
        "id": "HwM1lh3sA3S3"
      },
      "outputs": [
        {
          "data": {
            "text/plain": [
              "array([[4.21509616],\n",
              "       [2.77011339]])"
            ]
          },
          "execution_count": 65,
          "metadata": {},
          "output_type": "execute_result"
        }
      ],
      "source": [
        "#your code\n",
        "# follow the equation from the notes\n",
        "# NOTE: there's a typo in the notes (y - Xw) should be (Xw - y) which is what this code reflects to get correct results\n",
        "w = np.linalg.inv(np.transpose(x0_X).dot(x0_X)).dot(np.transpose(x0_X)).dot(y)\n",
        "for n in range(n_iterations):\n",
        "    weights_gd = weights_gd + eta * (-1/np.size(X[:,0])) * np.transpose(x0_X).dot(np.dot(x0_X, weights_gd) - y)\n",
        "# debug\n",
        "# weights_gd\n"
      ]
    },
    {
      "cell_type": "markdown",
      "metadata": {
        "id": "Si4aXbZ4p_O8"
      },
      "source": [
        "# 2. print weights"
      ]
    },
    {
      "cell_type": "code",
      "execution_count": 66,
      "metadata": {
        "id": "RyjEEwSiA65o"
      },
      "outputs": [
        {
          "name": "stdout",
          "output_type": "stream",
          "text": [
            "[[4.21509616]\n",
            " [2.77011339]]\n"
          ]
        }
      ],
      "source": [
        "#your code\n",
        "print(weights_gd)"
      ]
    },
    {
      "cell_type": "markdown",
      "metadata": {
        "id": "nH4vR7vVqB_-"
      },
      "source": [
        "# 3. make prediction on X_new(from the 1st part), you also need to add x0=1 to each instance before making prediction (1 point)"
      ]
    },
    {
      "cell_type": "code",
      "execution_count": 84,
      "metadata": {
        "id": "nOZgzfRzA8nB"
      },
      "outputs": [
        {
          "name": "stdout",
          "output_type": "stream",
          "text": [
            "[[4.21509616]\n",
            " [9.75532293]]\n"
          ]
        },
        {
          "data": {
            "image/png": "[encoded data removed]",
            "text/plain": [
              "<Figure size 432x288 with 1 Axes>"
            ]
          },
          "metadata": {
            "needs_background": "light"
          },
          "output_type": "display_data"
        }
      ],
      "source": [
        "#your code\n",
        "x0 = np.ones((np.size(X_new[:,0]), 1))\n",
        "x0_Xnew = np.column_stack((x0, X_new))\n",
        "pred = np.dot(x0_Xnew, weights_gd)\n",
        "print(pred)\n",
        "\n",
        "# plot the prediction using the results from the gradient descent calculation\n",
        "plt.plot(X_new, pred, \"r-\")\n",
        "plt.plot(X, y, \"b.\")\n",
        "plt.xlabel(\"$x_1$\", fontsize=18)\n",
        "plt.ylabel(\"$y$\", rotation=0, fontsize=18)\n",
        "plt.axis([0, 2, 0, 15])\n",
        "plt.show()"
      ]
    }
  ],
  "metadata": {
    "colab": {
      "collapsed_sections": [],
      "name": "HW1.ipynb",
      "provenance": []
    },
    "kernelspec": {
      "display_name": "Python 3",
      "name": "python3"
    },
    "language_info": {
      "name": "python",
      "version": "3.8.9"
    }
  },
  "nbformat": 4,
  "nbformat_minor": 0
}
